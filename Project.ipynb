{
 "cells": [
  {
   "cell_type": "code",
   "execution_count": 205,
   "metadata": {
    "collapsed": false
   },
   "outputs": [],
   "source": [
    "#imports and settings\n",
    "import pandas as pd \n",
    "pd.set_option('display.expand_frame_repr', False)\n",
    "import numpy as np\n",
    "from matplotlib import pyplot as plt \n",
    "plt.style.use('fivethirtyeight')"
   ]
  },
  {
   "cell_type": "code",
   "execution_count": 206,
   "metadata": {
    "collapsed": false,
    "scrolled": true
   },
   "outputs": [],
   "source": [
    "df = pd.read_csv('/Users/Jakub/loan.csv', low_memory = False)"
   ]
  },
  {
   "cell_type": "code",
   "execution_count": 207,
   "metadata": {
    "collapsed": false
   },
   "outputs": [
    {
     "data": {
      "text/html": [
       "<div>\n",
       "<table border=\"1\" class=\"dataframe\">\n",
       "  <thead>\n",
       "    <tr style=\"text-align: right;\">\n",
       "      <th></th>\n",
       "      <th>id</th>\n",
       "      <th>member_id</th>\n",
       "      <th>loan_amnt</th>\n",
       "      <th>funded_amnt</th>\n",
       "      <th>funded_amnt_inv</th>\n",
       "      <th>term</th>\n",
       "      <th>int_rate</th>\n",
       "      <th>installment</th>\n",
       "      <th>grade</th>\n",
       "      <th>sub_grade</th>\n",
       "      <th>...</th>\n",
       "      <th>total_bal_il</th>\n",
       "      <th>il_util</th>\n",
       "      <th>open_rv_12m</th>\n",
       "      <th>open_rv_24m</th>\n",
       "      <th>max_bal_bc</th>\n",
       "      <th>all_util</th>\n",
       "      <th>total_rev_hi_lim</th>\n",
       "      <th>inq_fi</th>\n",
       "      <th>total_cu_tl</th>\n",
       "      <th>inq_last_12m</th>\n",
       "    </tr>\n",
       "  </thead>\n",
       "  <tbody>\n",
       "    <tr>\n",
       "      <th>504782</th>\n",
       "      <td>66066185</td>\n",
       "      <td>70760963</td>\n",
       "      <td>4800.0</td>\n",
       "      <td>4800.0</td>\n",
       "      <td>4800.0</td>\n",
       "      <td>36 months</td>\n",
       "      <td>10.64</td>\n",
       "      <td>156.33</td>\n",
       "      <td>B</td>\n",
       "      <td>B4</td>\n",
       "      <td>...</td>\n",
       "      <td>NaN</td>\n",
       "      <td>NaN</td>\n",
       "      <td>NaN</td>\n",
       "      <td>NaN</td>\n",
       "      <td>NaN</td>\n",
       "      <td>NaN</td>\n",
       "      <td>5900.0</td>\n",
       "      <td>NaN</td>\n",
       "      <td>NaN</td>\n",
       "      <td>NaN</td>\n",
       "    </tr>\n",
       "    <tr>\n",
       "      <th>716228</th>\n",
       "      <td>51879737</td>\n",
       "      <td>55309546</td>\n",
       "      <td>30000.0</td>\n",
       "      <td>30000.0</td>\n",
       "      <td>30000.0</td>\n",
       "      <td>60 months</td>\n",
       "      <td>16.55</td>\n",
       "      <td>738.34</td>\n",
       "      <td>D</td>\n",
       "      <td>D2</td>\n",
       "      <td>...</td>\n",
       "      <td>NaN</td>\n",
       "      <td>NaN</td>\n",
       "      <td>NaN</td>\n",
       "      <td>NaN</td>\n",
       "      <td>NaN</td>\n",
       "      <td>NaN</td>\n",
       "      <td>40700.0</td>\n",
       "      <td>NaN</td>\n",
       "      <td>NaN</td>\n",
       "      <td>NaN</td>\n",
       "    </tr>\n",
       "  </tbody>\n",
       "</table>\n",
       "<p>2 rows × 74 columns</p>\n",
       "</div>"
      ],
      "text/plain": [
       "              id  member_id  loan_amnt  funded_amnt  funded_amnt_inv        term  int_rate  installment grade sub_grade     ...      total_bal_il il_util open_rv_12m  open_rv_24m max_bal_bc all_util total_rev_hi_lim inq_fi total_cu_tl inq_last_12m\n",
       "504782  66066185   70760963     4800.0       4800.0           4800.0   36 months     10.64       156.33     B        B4     ...               NaN     NaN         NaN          NaN        NaN      NaN           5900.0    NaN         NaN          NaN\n",
       "716228  51879737   55309546    30000.0      30000.0          30000.0   60 months     16.55       738.34     D        D2     ...               NaN     NaN         NaN          NaN        NaN      NaN          40700.0    NaN         NaN          NaN\n",
       "\n",
       "[2 rows x 74 columns]"
      ]
     },
     "execution_count": 207,
     "metadata": {},
     "output_type": "execute_result"
    }
   ],
   "source": [
    "#Returns a random sample of items - 30% so the dataset is easy to work with\n",
    "df_sample = df.sample(frac = 0.9)\n",
    "df_sample.head(2)"
   ]
  },
  {
   "cell_type": "code",
   "execution_count": 208,
   "metadata": {
    "collapsed": false
   },
   "outputs": [
    {
     "data": {
      "text/plain": [
       "Current                                                541564\n",
       "Fully Paid                                             187017\n",
       "Charged Off                                             40795\n",
       "Late (31-120 days)                                      10417\n",
       "Issued                                                   7551\n",
       "In Grace Period                                          5645\n",
       "Late (16-30 days)                                        2108\n",
       "Does not meet the credit policy. Status:Fully Paid       1765\n",
       "Default                                                  1087\n",
       "Does not meet the credit policy. Status:Charged Off       692\n",
       "Name: loan_status, dtype: int64"
      ]
     },
     "execution_count": 208,
     "metadata": {},
     "output_type": "execute_result"
    }
   ],
   "source": [
    "#Analyzing target variable - loan_status\n",
    "df_sample['loan_status'].value_counts()"
   ]
  },
  {
   "cell_type": "code",
   "execution_count": 209,
   "metadata": {
    "collapsed": false,
    "scrolled": true
   },
   "outputs": [
    {
     "data": {
      "text/plain": [
       "Fully Paid     187017\n",
       "Charged Off     40795\n",
       "Default          1087\n",
       "Name: loan_status, dtype: int64"
      ]
     },
     "execution_count": 209,
     "metadata": {},
     "output_type": "execute_result"
    }
   ],
   "source": [
    "#getting rid of loans with statuses we do not care about\n",
    "#we do not care about current loans \n",
    "#explanation of difference between charged off and default https://help.lendingclub.com/hc/en-us/articles/216127747\n",
    "#we only care about those loans that are either fully paid or are\n",
    "#very late\n",
    "#too little examples with \"does not meet the credit policy\" to care about these...\n",
    "mask = df_sample['loan_status'].isin(['Fully Paid','Charged Off','Default'])\n",
    "df_sample = df_sample[mask]\n",
    "df_sample['loan_status'].value_counts()\n"
   ]
  },
  {
   "cell_type": "code",
   "execution_count": 210,
   "metadata": {
    "collapsed": false
   },
   "outputs": [
    {
     "data": {
      "text/plain": [
       "False    187017\n",
       "True      41882\n",
       "Name: Late_Loan, dtype: int64"
      ]
     },
     "execution_count": 210,
     "metadata": {},
     "output_type": "execute_result"
    }
   ],
   "source": [
    "# now we only work with loans that are either fully paid or late > 121 days\n",
    "# We create target variable with these two possible values. Positive class\n",
    "# are late loans - we care about these and want to analyze in detail. \n",
    "\n",
    "def CreateTarget(status): \n",
    "    if status == 'Fully Paid':\n",
    "        return False\n",
    "    else:\n",
    "        return True\n",
    "    \n",
    "df_sample['Late_Loan'] = df_sample['loan_status'].map(CreateTarget)\n",
    "df_sample['Late_Loan'].value_counts()"
   ]
  },
  {
   "cell_type": "code",
   "execution_count": 211,
   "metadata": {
    "collapsed": false,
    "scrolled": true
   },
   "outputs": [
    {
     "data": {
      "text/plain": [
       "loan_amnt                     0\n",
       "term                          0\n",
       "int_rate                      0\n",
       "installment                   0\n",
       "grade                         0\n",
       "emp_title                     0\n",
       "emp_length                    0\n",
       "home_ownership                0\n",
       "annual_inc                    0\n",
       "issue_d                       0\n",
       "purpose                       0\n",
       "title                         0\n",
       "addr_state                    0\n",
       "dti                           0\n",
       "delinq_2yrs                   0\n",
       "inq_last_6mths                0\n",
       "open_acc                      0\n",
       "pub_rec                       0\n",
       "revol_bal                     0\n",
       "revol_util                    0\n",
       "total_acc                     0\n",
       "collections_12_mths_ex_med    0\n",
       "acc_now_delinq                0\n",
       "Late_Loan                     0\n",
       "dtype: int64"
      ]
     },
     "execution_count": 211,
     "metadata": {},
     "output_type": "execute_result"
    }
   ],
   "source": [
    "#drop features with more than 25% missing values\n",
    "features_missing_series = df_sample.isnull().sum() > len(df_sample)/10\n",
    "features_missing_series = features_missing_series[features_missing_series == True]\n",
    "features_missing_list =  features_missing_series.index.tolist()\n",
    "df_sample = df_sample.drop(features_missing_list,axis =1)\n",
    "\n",
    "# drop features that have no or little predictive power and original target\n",
    "df_sample = df_sample.drop(['id','member_id','loan_status','url','zip_code','policy_code','application_type','last_pymnt_d','last_credit_pull_d','verification_status','pymnt_plan','funded_amnt','funded_amnt_inv','sub_grade','out_prncp','out_prncp_inv','total_pymnt_inv','total_pymnt','total_pymnt_inv','total_rec_prncp','total_rec_int','total_rec_late_fee','recoveries','collection_recovery_fee','last_pymnt_amnt','initial_list_status','earliest_cr_line'],axis =1)\n",
    "\n",
    "#replace missing values with Unknown value or mean when feature is numerical\n",
    "df_sample['emp_title'].fillna('Unknown',inplace = True)\n",
    "df_sample['title'].fillna('Unknown',inplace = True)\n",
    "df_sample['revol_util'].fillna(df_sample['revol_util'].mean(),inplace = True)\n",
    "df_sample['collections_12_mths_ex_med'].fillna(df_sample['collections_12_mths_ex_med'].mean(),inplace = True)\n",
    "\n",
    "df_sample.isnull().sum() #there are no missing values left "
   ]
  },
  {
   "cell_type": "code",
   "execution_count": 212,
   "metadata": {
    "collapsed": false
   },
   "outputs": [
    {
     "data": {
      "text/plain": [
       "10+ years    69695\n",
       "2 years      21330\n",
       "< 1 year     18893\n",
       "3 years      18374\n",
       "5 years      16345\n",
       "1 year       15197\n",
       "4 years      14652\n",
       "6 years      13352\n",
       "7 years      12721\n",
       "8 years      10696\n",
       "n/a           9007\n",
       "9 years       8637\n",
       "Name: emp_length, dtype: int64"
      ]
     },
     "execution_count": 212,
     "metadata": {},
     "output_type": "execute_result"
    }
   ],
   "source": [
    "#old categorical emp_length feature\n",
    "df_sample['emp_length'].value_counts()"
   ]
  },
  {
   "cell_type": "code",
   "execution_count": 213,
   "metadata": {
    "collapsed": false
   },
   "outputs": [
    {
     "data": {
      "text/plain": [
       "10.0    69695\n",
       "0.5     27900\n",
       "2.0     21330\n",
       "3.0     18374\n",
       "5.0     16345\n",
       "1.0     15197\n",
       "4.0     14652\n",
       "6.0     13352\n",
       "7.0     12721\n",
       "8.0     10696\n",
       "9.0      8637\n",
       "Name: emp_length_num, dtype: int64"
      ]
     },
     "execution_count": 213,
     "metadata": {},
     "output_type": "execute_result"
    }
   ],
   "source": [
    "#new numerical emp_length feature\n",
    "\n",
    "def EmpLength(year):\n",
    "    if year == '< 1 year':\n",
    "        return 0.5\n",
    "    elif year == 'n/a': #assuming that if not filled out employments was < 1 \n",
    "        return 0.5\n",
    "    elif year == '10+ years':\n",
    "        return 10\n",
    "    else:\n",
    "        return float(year.rstrip(' years'))\n",
    "        \n",
    "df_sample['emp_length_num'] = df_sample['emp_length'].map(EmpLength)\n",
    "df_sample = df_sample.drop('emp_length',axis =1 )\n",
    "df_sample['emp_length_num'].value_counts()"
   ]
  },
  {
   "cell_type": "code",
   "execution_count": 214,
   "metadata": {
    "collapsed": false
   },
   "outputs": [],
   "source": [
    "#transforming to date datatype\n",
    "df_sample['issue_d'] = pd.to_datetime(df_sample.issue_d)"
   ]
  },
  {
   "cell_type": "code",
   "execution_count": 215,
   "metadata": {
    "collapsed": false
   },
   "outputs": [
    {
     "data": {
      "text/plain": [
       "float64           15\n",
       "object             7\n",
       "bool               1\n",
       "datetime64[ns]     1\n",
       "dtype: int64"
      ]
     },
     "execution_count": 215,
     "metadata": {},
     "output_type": "execute_result"
    }
   ],
   "source": [
    "#datatypes of features \n",
    "# object = string ? \n",
    "df_sample.dtypes.value_counts()"
   ]
  },
  {
   "cell_type": "code",
   "execution_count": 216,
   "metadata": {
    "collapsed": false
   },
   "outputs": [
    {
     "name": "stdout",
     "output_type": "stream",
     "text": [
      "loan_amnt                        13570.9357621\n",
      "int_rate                         13.7779271207\n",
      "installment                      418.224364021\n",
      "annual_inc                       72517.5041076\n",
      "dti                              16.5560590916\n",
      "delinq_2yrs                      0.25080494017\n",
      "inq_last_6mths                  0.853979265964\n",
      "open_acc                         10.9424112818\n",
      "pub_rec                         0.143591715123\n",
      "revol_bal                        15170.0179817\n",
      "revol_util                       54.3219467726\n",
      "total_acc                        25.0412321592\n",
      "collections_12_mths_ex_med    0.00686035892349\n",
      "acc_now_delinq                0.00318044202902\n",
      "emp_length_num                   5.66482160254\n",
      "dtype: object\n",
      "Index([u'term', u'grade', u'emp_title', u'home_ownership', u'purpose',\n",
      "       u'title', u'addr_state'],\n",
      "      dtype='object')\n",
      "Index([u'Late_Loan'], dtype='object')\n"
     ]
    }
   ],
   "source": [
    "#cleaned and transformed data ready for analysis and ML \n",
    "#numerical features - means \n",
    "print(df_sample.select_dtypes(include=['float64']).apply(np.mean).apply(str))\n",
    "\n",
    "# categorical variables \n",
    "print(df_sample.select_dtypes(include=['object']).columns)\n",
    "\n",
    "# target variable - boolean\n",
    "\n",
    "print(df_sample.select_dtypes(include=['bool']).columns)"
   ]
  },
  {
   "cell_type": "code",
   "execution_count": 217,
   "metadata": {
    "collapsed": false,
    "scrolled": false
   },
   "outputs": [
    {
     "data": {
      "image/png": "[encoded data removed]",
      "text/plain": [
       "<matplotlib.figure.Figure at 0x17d033290>"
      ]
     },
     "metadata": {},
     "output_type": "display_data"
    }
   ],
   "source": [
    "#distribution of our class/targer variable Late_Loan , True if loan is late. \n",
    "plt.figure(figsize=(5,5))\n",
    "df_sample['Late_Loan'].value_counts().plot(kind = 'pie',autopct='%.0f%%', startangle=100, fontsize=17)\n",
    "plt.show()"
   ]
  },
  {
   "cell_type": "code",
   "execution_count": 218,
   "metadata": {
    "collapsed": false
   },
   "outputs": [
    {
     "data": {
      "text/html": [
       "<div>\n",
       "<table border=\"1\" class=\"dataframe\">\n",
       "  <thead>\n",
       "    <tr style=\"text-align: right;\">\n",
       "      <th></th>\n",
       "      <th>Average Loan Amount</th>\n",
       "      <th>YoY Change %</th>\n",
       "    </tr>\n",
       "    <tr>\n",
       "      <th>issue_d</th>\n",
       "      <th></th>\n",
       "      <th></th>\n",
       "    </tr>\n",
       "  </thead>\n",
       "  <tbody>\n",
       "    <tr>\n",
       "      <th>2007</th>\n",
       "      <td>9028.475336</td>\n",
       "      <td>NaN</td>\n",
       "    </tr>\n",
       "    <tr>\n",
       "      <th>2008</th>\n",
       "      <td>9269.120801</td>\n",
       "      <td>2.665405</td>\n",
       "    </tr>\n",
       "    <tr>\n",
       "      <th>2009</th>\n",
       "      <td>9818.881857</td>\n",
       "      <td>5.931103</td>\n",
       "    </tr>\n",
       "    <tr>\n",
       "      <th>2010</th>\n",
       "      <td>10574.662325</td>\n",
       "      <td>7.697215</td>\n",
       "    </tr>\n",
       "    <tr>\n",
       "      <th>2011</th>\n",
       "      <td>11628.776785</td>\n",
       "      <td>9.968304</td>\n",
       "    </tr>\n",
       "    <tr>\n",
       "      <th>2012</th>\n",
       "      <td>12916.793085</td>\n",
       "      <td>11.076112</td>\n",
       "    </tr>\n",
       "    <tr>\n",
       "      <th>2013</th>\n",
       "      <td>14407.292590</td>\n",
       "      <td>11.539238</td>\n",
       "    </tr>\n",
       "    <tr>\n",
       "      <th>2014</th>\n",
       "      <td>14246.753673</td>\n",
       "      <td>-1.114289</td>\n",
       "    </tr>\n",
       "    <tr>\n",
       "      <th>2015</th>\n",
       "      <td>14489.678743</td>\n",
       "      <td>1.705126</td>\n",
       "    </tr>\n",
       "  </tbody>\n",
       "</table>\n",
       "</div>"
      ],
      "text/plain": [
       "         Average Loan Amount  YoY Change %\n",
       "issue_d                                   \n",
       "2007             9028.475336           NaN\n",
       "2008             9269.120801      2.665405\n",
       "2009             9818.881857      5.931103\n",
       "2010            10574.662325      7.697215\n",
       "2011            11628.776785      9.968304\n",
       "2012            12916.793085     11.076112\n",
       "2013            14407.292590     11.539238\n",
       "2014            14246.753673     -1.114289\n",
       "2015            14489.678743      1.705126"
      ]
     },
     "execution_count": 218,
     "metadata": {},
     "output_type": "execute_result"
    }
   ],
   "source": [
    "Amount_By_Year = df_sample.groupby(df_sample['issue_d'].dt.year)['loan_amnt'].mean()\n",
    "Amount_By_Year = pd.DataFrame(Amount_By_Year)\n",
    "Amount_By_Year['YoY Change %'] = Amount_By_Year.pct_change()*100\n",
    "Amount_By_Year.rename(columns = {'loan_amnt':'Average Loan Amount'})"
   ]
  },
  {
   "cell_type": "code",
   "execution_count": 219,
   "metadata": {
    "collapsed": false
   },
   "outputs": [
    {
     "data": {
      "image/png": "[encoded data removed]",
      "text/plain": [
       "<matplotlib.figure.Figure at 0x117af1510>"
      ]
     },
     "metadata": {},
     "output_type": "display_data"
    }
   ],
   "source": [
    "plt.figure(figsize=(8,3))\n",
    "Amount_By_Year_Status_True = df_sample.groupby([df_sample['issue_d'].dt.year,df_sample['Late_Loan'][df_sample['Late_Loan'] == True]])['loan_amnt'].mean().plot(kind = 'line', label = 'True')\n",
    "Amount_By_Year_Status_False = df_sample.groupby([df_sample['issue_d'].dt.year,df_sample['Late_Loan'][df_sample['Late_Loan'] == False]])['loan_amnt'].mean().plot(kind = 'line',label = 'False')\n",
    "plt.xlabel('Year')\n",
    "plt.ylabel('Average Loan')\n",
    "plt.legend(loc='best')\n",
    "plt.show()\n"
   ]
  }
 ],
 "metadata": {
  "anaconda-cloud": {},
  "kernelspec": {
   "display_name": "Python [conda env:py27]",
   "language": "python",
   "name": "conda-env-py27-py"
  },
  "language_info": {
   "codemirror_mode": {
    "name": "ipython",
    "version": 2
   },
   "file_extension": ".py",
   "mimetype": "text/x-python",
   "name": "python",
   "nbconvert_exporter": "python",
   "pygments_lexer": "ipython2",
   "version": "2.7.12"
  }
 },
 "nbformat": 4,
 "nbformat_minor": 1
}
