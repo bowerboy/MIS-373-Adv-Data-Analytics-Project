{
 "cells": [
  {
   "cell_type": "code",
   "execution_count": 8,
   "metadata": {
    "collapsed": false
   },
   "outputs": [],
   "source": [
    "#imports and settings\n",
    "import pandas as pd \n",
    "pd.set_option('display.expand_frame_repr', False)\n",
    "import numpy as np\n",
    "from matplotlib import pyplot as plt "
   ]
  },
  {
   "cell_type": "code",
   "execution_count": 9,
   "metadata": {
    "collapsed": false,
    "scrolled": true
   },
   "outputs": [],
   "source": [
    "df = pd.read_csv('/Users/Jakub/loan.csv', low_memory = False)"
   ]
  },
  {
   "cell_type": "code",
   "execution_count": 28,
   "metadata": {
    "collapsed": false
   },
   "outputs": [
    {
     "data": {
      "text/html": [
       "<div>\n",
       "<table border=\"1\" class=\"dataframe\">\n",
       "  <thead>\n",
       "    <tr style=\"text-align: right;\">\n",
       "      <th></th>\n",
       "      <th>id</th>\n",
       "      <th>member_id</th>\n",
       "      <th>loan_amnt</th>\n",
       "      <th>funded_amnt</th>\n",
       "      <th>funded_amnt_inv</th>\n",
       "      <th>term</th>\n",
       "      <th>int_rate</th>\n",
       "      <th>installment</th>\n",
       "      <th>grade</th>\n",
       "      <th>sub_grade</th>\n",
       "      <th>...</th>\n",
       "      <th>total_bal_il</th>\n",
       "      <th>il_util</th>\n",
       "      <th>open_rv_12m</th>\n",
       "      <th>open_rv_24m</th>\n",
       "      <th>max_bal_bc</th>\n",
       "      <th>all_util</th>\n",
       "      <th>total_rev_hi_lim</th>\n",
       "      <th>inq_fi</th>\n",
       "      <th>total_cu_tl</th>\n",
       "      <th>inq_last_12m</th>\n",
       "    </tr>\n",
       "  </thead>\n",
       "  <tbody>\n",
       "    <tr>\n",
       "      <th>106324</th>\n",
       "      <td>6552399</td>\n",
       "      <td>8104403</td>\n",
       "      <td>16000.0</td>\n",
       "      <td>16000.0</td>\n",
       "      <td>15950.0</td>\n",
       "      <td>36 months</td>\n",
       "      <td>10.64</td>\n",
       "      <td>521.10</td>\n",
       "      <td>B</td>\n",
       "      <td>B2</td>\n",
       "      <td>...</td>\n",
       "      <td>NaN</td>\n",
       "      <td>NaN</td>\n",
       "      <td>NaN</td>\n",
       "      <td>NaN</td>\n",
       "      <td>NaN</td>\n",
       "      <td>NaN</td>\n",
       "      <td>34600.0</td>\n",
       "      <td>NaN</td>\n",
       "      <td>NaN</td>\n",
       "      <td>NaN</td>\n",
       "    </tr>\n",
       "    <tr>\n",
       "      <th>644352</th>\n",
       "      <td>57692311</td>\n",
       "      <td>61445024</td>\n",
       "      <td>25000.0</td>\n",
       "      <td>25000.0</td>\n",
       "      <td>25000.0</td>\n",
       "      <td>60 months</td>\n",
       "      <td>19.99</td>\n",
       "      <td>662.21</td>\n",
       "      <td>E</td>\n",
       "      <td>E4</td>\n",
       "      <td>...</td>\n",
       "      <td>NaN</td>\n",
       "      <td>NaN</td>\n",
       "      <td>NaN</td>\n",
       "      <td>NaN</td>\n",
       "      <td>NaN</td>\n",
       "      <td>NaN</td>\n",
       "      <td>58400.0</td>\n",
       "      <td>NaN</td>\n",
       "      <td>NaN</td>\n",
       "      <td>NaN</td>\n",
       "    </tr>\n",
       "  </tbody>\n",
       "</table>\n",
       "<p>2 rows × 74 columns</p>\n",
       "</div>"
      ],
      "text/plain": [
       "              id  member_id  loan_amnt  funded_amnt  funded_amnt_inv        term  int_rate  installment grade sub_grade     ...      total_bal_il il_util open_rv_12m  open_rv_24m max_bal_bc all_util total_rev_hi_lim inq_fi total_cu_tl inq_last_12m\n",
       "106324   6552399    8104403    16000.0      16000.0          15950.0   36 months     10.64       521.10     B        B2     ...               NaN     NaN         NaN          NaN        NaN      NaN          34600.0    NaN         NaN          NaN\n",
       "644352  57692311   61445024    25000.0      25000.0          25000.0   60 months     19.99       662.21     E        E4     ...               NaN     NaN         NaN          NaN        NaN      NaN          58400.0    NaN         NaN          NaN\n",
       "\n",
       "[2 rows x 74 columns]"
      ]
     },
     "execution_count": 28,
     "metadata": {},
     "output_type": "execute_result"
    }
   ],
   "source": [
    "#Returns a random sample of items - 30% so the dataset is easy to work with\n",
    "df_sample = df.sample(frac = 0.3)\n",
    "df_sample.head(2)"
   ]
  },
  {
   "cell_type": "code",
   "execution_count": 29,
   "metadata": {
    "collapsed": false
   },
   "outputs": [
    {
     "data": {
      "text/plain": [
       "Current                                                180449\n",
       "Fully Paid                                              62414\n",
       "Charged Off                                             13601\n",
       "Late (31-120 days)                                       3465\n",
       "Issued                                                   2557\n",
       "In Grace Period                                          1884\n",
       "Late (16-30 days)                                         706\n",
       "Does not meet the credit policy. Status:Fully Paid        575\n",
       "Default                                                   346\n",
       "Does not meet the credit policy. Status:Charged Off       217\n",
       "Name: loan_status, dtype: int64"
      ]
     },
     "execution_count": 29,
     "metadata": {},
     "output_type": "execute_result"
    }
   ],
   "source": [
    "#Analyzing target variable - loan_status\n",
    "df_sample['loan_status'].value_counts()"
   ]
  },
  {
   "cell_type": "code",
   "execution_count": 30,
   "metadata": {
    "collapsed": false
   },
   "outputs": [
    {
     "data": {
      "text/plain": [
       "Fully Paid     62414\n",
       "Charged Off    13601\n",
       "Default          346\n",
       "Name: loan_status, dtype: int64"
      ]
     },
     "execution_count": 30,
     "metadata": {},
     "output_type": "execute_result"
    }
   ],
   "source": [
    "#getting rid of loans with statuses we do not care about\n",
    "#we do not care about current loans \n",
    "#explanation of difference between charged off and default https://help.lendingclub.com/hc/en-us/articles/216127747\n",
    "#we only care about those loans that are either fully paid or are\n",
    "#very late\n",
    "#too little examples with \"does not meet the credit policy\" to care about these...\n",
    "mask = df_sample['loan_status'].isin(['Fully Paid','Charged Off','Default'])\n",
    "df_sample = df_sample[mask]\n",
    "df_sample['loan_status'].value_counts()\n"
   ]
  },
  {
   "cell_type": "code",
   "execution_count": 31,
   "metadata": {
    "collapsed": false
   },
   "outputs": [
    {
     "data": {
      "text/plain": [
       "False    62414\n",
       "True     13947\n",
       "Name: Late_Loan, dtype: int64"
      ]
     },
     "execution_count": 31,
     "metadata": {},
     "output_type": "execute_result"
    }
   ],
   "source": [
    "# now we only work with loans that are either fully paid or late > 121 days\n",
    "# We create target variable with these two possible values. Positive class\n",
    "# are late loans - we care about these and want to analyze in detail. \n",
    "\n",
    "def CreateTarget(status): \n",
    "    if status == 'Fully Paid':\n",
    "        return False\n",
    "    else:\n",
    "        return True\n",
    "    \n",
    "df_sample['Late_Loan'] = df_sample['loan_status'].map(CreateTarget)\n",
    "df_sample['Late_Loan'].value_counts()"
   ]
  },
  {
   "cell_type": "code",
   "execution_count": 32,
   "metadata": {
    "collapsed": false,
    "scrolled": true
   },
   "outputs": [
    {
     "data": {
      "text/plain": [
       "loan_amnt                     0\n",
       "term                          0\n",
       "int_rate                      0\n",
       "installment                   0\n",
       "grade                         0\n",
       "emp_title                     0\n",
       "emp_length                    0\n",
       "home_ownership                0\n",
       "annual_inc                    0\n",
       "purpose                       0\n",
       "title                         0\n",
       "addr_state                    0\n",
       "dti                           0\n",
       "delinq_2yrs                   0\n",
       "inq_last_6mths                0\n",
       "open_acc                      0\n",
       "pub_rec                       0\n",
       "revol_bal                     0\n",
       "revol_util                    0\n",
       "total_acc                     0\n",
       "collections_12_mths_ex_med    0\n",
       "acc_now_delinq                0\n",
       "Late_Loan                     0\n",
       "dtype: int64"
      ]
     },
     "execution_count": 32,
     "metadata": {},
     "output_type": "execute_result"
    }
   ],
   "source": [
    "#drop features with more than 25% missing values\n",
    "features_missing_series = df_sample.isnull().sum() > len(df_sample)/10\n",
    "features_missing_series = features_missing_series[features_missing_series == True]\n",
    "features_missing_list =  features_missing_series.index.tolist()\n",
    "df_sample = df_sample.drop(features_missing_list,axis =1)\n",
    "\n",
    "# drop features that have no or little predictive power and original target\n",
    "df_sample = df_sample.drop(['id','member_id','issue_d','loan_status','url','zip_code','policy_code','application_type','last_pymnt_d','last_credit_pull_d','verification_status','pymnt_plan','funded_amnt','funded_amnt_inv','sub_grade','out_prncp','out_prncp_inv','total_pymnt_inv','total_pymnt','total_pymnt_inv','total_rec_prncp','total_rec_int','total_rec_late_fee','recoveries','collection_recovery_fee','last_pymnt_amnt','initial_list_status','earliest_cr_line'],axis =1)\n",
    "\n",
    "#replace missing values with Unknown value or mean when feature is numerical\n",
    "df_sample['emp_title'].fillna('Unknown',inplace = True)\n",
    "df_sample['title'].fillna('Unknown',inplace = True)\n",
    "df_sample['revol_util'].fillna(df_sample['revol_util'].mean(),inplace = True)\n",
    "df_sample['collections_12_mths_ex_med'].fillna(df_sample['collections_12_mths_ex_med'].mean(),inplace = True)\n",
    "\n",
    "df_sample.isnull().sum() #there are no missing values left "
   ]
  },
  {
   "cell_type": "code",
   "execution_count": 33,
   "metadata": {
    "collapsed": false
   },
   "outputs": [
    {
     "data": {
      "text/plain": [
       "10+ years    23167\n",
       "2 years       7082\n",
       "< 1 year      6347\n",
       "3 years       6155\n",
       "5 years       5359\n",
       "1 year        5086\n",
       "4 years       4809\n",
       "6 years       4513\n",
       "7 years       4315\n",
       "8 years       3585\n",
       "n/a           3004\n",
       "9 years       2939\n",
       "Name: emp_length, dtype: int64"
      ]
     },
     "execution_count": 33,
     "metadata": {},
     "output_type": "execute_result"
    }
   ],
   "source": [
    "#old categorical emp_length feature\n",
    "df_sample['emp_length'].value_counts()"
   ]
  },
  {
   "cell_type": "code",
   "execution_count": 34,
   "metadata": {
    "collapsed": false
   },
   "outputs": [
    {
     "data": {
      "text/plain": [
       "10.0    23167\n",
       "0.5      9351\n",
       "2.0      7082\n",
       "3.0      6155\n",
       "5.0      5359\n",
       "1.0      5086\n",
       "4.0      4809\n",
       "6.0      4513\n",
       "7.0      4315\n",
       "8.0      3585\n",
       "9.0      2939\n",
       "Name: emp_length_num, dtype: int64"
      ]
     },
     "execution_count": 34,
     "metadata": {},
     "output_type": "execute_result"
    }
   ],
   "source": [
    "#new numerical emp_length feature\n",
    "\n",
    "def EmpLength(year):\n",
    "    if year == '< 1 year':\n",
    "        return 0.5\n",
    "    elif year == 'n/a': #assuming that if not filled out employments was < 1 \n",
    "        return 0.5\n",
    "    elif year == '10+ years':\n",
    "        return 10\n",
    "    else:\n",
    "        return float(year.rstrip(' years'))\n",
    "        \n",
    "df_sample['emp_length_num'] = df_sample['emp_length'].map(EmpLength)\n",
    "df_sample = df_sample.drop('emp_length',axis =1 )\n",
    "df_sample['emp_length_num'].value_counts()"
   ]
  },
  {
   "cell_type": "code",
   "execution_count": 35,
   "metadata": {
    "collapsed": false
   },
   "outputs": [],
   "source": [
    "df_sample['title_new'] = df_sample['title'].map(str)"
   ]
  },
  {
   "cell_type": "code",
   "execution_count": 36,
   "metadata": {
    "collapsed": false
   },
   "outputs": [
    {
     "data": {
      "text/plain": [
       "float64    15\n",
       "object      8\n",
       "bool        1\n",
       "dtype: int64"
      ]
     },
     "execution_count": 36,
     "metadata": {},
     "output_type": "execute_result"
    }
   ],
   "source": [
    "#datatypes of features \n",
    "# object = string ? \n",
    "df_sample.dtypes.value_counts()"
   ]
  },
  {
   "cell_type": "code",
   "execution_count": 37,
   "metadata": {
    "collapsed": false
   },
   "outputs": [
    {
     "name": "stdout",
     "output_type": "stream",
     "text": [
      "loan_amnt                        13517.4388759\n",
      "int_rate                         13.7785290921\n",
      "installment                      416.810293867\n",
      "annual_inc                       72182.8195833\n",
      "dti                               16.597453543\n",
      "delinq_2yrs                     0.253624232265\n",
      "inq_last_6mths                  0.851979413575\n",
      "open_acc                         10.9445528477\n",
      "pub_rec                           0.1439085397\n",
      "revol_bal                        15173.2449942\n",
      "revol_util                       54.2399541308\n",
      "total_acc                        25.0143004937\n",
      "collections_12_mths_ex_med    0.00761058932946\n",
      "acc_now_delinq                0.00309058288917\n",
      "emp_length_num                   5.66395804141\n",
      "dtype: object\n",
      "Index([u'term', u'grade', u'emp_title', u'home_ownership', u'purpose',\n",
      "       u'title', u'addr_state', u'title_new'],\n",
      "      dtype='object')\n",
      "Index([u'Late_Loan'], dtype='object')\n"
     ]
    }
   ],
   "source": [
    "#cleaned and transformed data ready for analysis and ML \n",
    "#numerical features - means \n",
    "print(df_sample.select_dtypes(include=['float64']).apply(np.mean).apply(str))\n",
    "\n",
    "# categorical variables \n",
    "print(df_sample.select_dtypes(include=['object']).columns)\n",
    "\n",
    "# target variable - boolean\n",
    "\n",
    "print(df_sample.select_dtypes(include=['bool']).columns)\n",
    "\n"
   ]
  },
  {
   "cell_type": "code",
   "execution_count": 42,
   "metadata": {
    "collapsed": false,
    "scrolled": true
   },
   "outputs": [
    {
     "data": {
      "image/png": "[encoded data removed]",
      "text/plain": [
       "<matplotlib.figure.Figure at 0x13d634250>"
      ]
     },
     "metadata": {},
     "output_type": "display_data"
    }
   ],
   "source": [
    "#distribution of our class/targer variable Late_Loan , True if loan was late. \n",
    "\n",
    "df_sample['Late_Loan'].value_counts().plot(kind = 'pie',autopct='%1.1f%%', startangle=270, fontsize=17)\n",
    "plt.show()"
   ]
  }
 ],
 "metadata": {
  "anaconda-cloud": {},
  "kernelspec": {
   "display_name": "Python [conda env:py27]",
   "language": "python",
   "name": "conda-env-py27-py"
  },
  "language_info": {
   "codemirror_mode": {
    "name": "ipython",
    "version": 2
   },
   "file_extension": ".py",
   "mimetype": "text/x-python",
   "name": "python",
   "nbconvert_exporter": "python",
   "pygments_lexer": "ipython2",
   "version": "2.7.12"
  }
 },
 "nbformat": 4,
 "nbformat_minor": 1
}
